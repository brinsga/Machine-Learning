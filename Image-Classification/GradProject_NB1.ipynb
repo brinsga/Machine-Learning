{
 "cells": [
  {
   "cell_type": "markdown",
   "metadata": {},
   "source": [
    "<h1> DS200A Computer Vision Assignment</h1>"
   ]
  },
  {
   "cell_type": "markdown",
   "metadata": {},
   "source": [
    "<h2>  Part One: Data Input </h2>\t\n"
   ]
  },
  {
   "cell_type": "markdown",
   "metadata": {},
   "source": [
    "<h3>  Import Statements </h3>\t\n"
   ]
  },
  {
   "cell_type": "code",
   "execution_count": 17,
   "metadata": {},
   "outputs": [],
   "source": [
    "#Import anything you need here\n",
    "import numpy as np\n",
    "import matplotlib.pyplot as plt\n",
    "import pandas as pd\n",
    "import matplotlib\n",
    "import skimage\n",
    "from skimage import data\n",
    "from skimage import io\n",
    "import os\n",
    "from zipfile import ZipFile\n",
    "import cv2"
   ]
  },
  {
   "cell_type": "markdown",
   "metadata": {},
   "source": [
    "<h4> Using the code for reference, take the given folder and create a dataframe with the picture object, and the encoding as listed below. </h4>\t\n",
    "0=Airplanes, 1=Bear, 2=Blimp, 3=Comet, 4=Crab, 5=Dog, 6=Dolphin, 7=Giraffe, 8=Goat, 9=Gorilla, 10=Kangaroo, 11=Killer-Whale, 12=Leopards, 13=Llama, 14= Penguin, 15= Porcupine, 16=Teddy-Bear, 17=Triceratops, 18=Unicorn, 19=Zebra"
   ]
  },
  {
   "cell_type": "code",
   "execution_count": 18,
   "metadata": {},
   "outputs": [],
   "source": [
    "### Helper Functions"
   ]
  },
  {
   "cell_type": "code",
   "execution_count": 19,
   "metadata": {},
   "outputs": [],
   "source": [
    "# Get all the files in the directory except hidden files\n",
    "def listdir_nohidden(path):\n",
    "    l = []\n",
    "    for f in os.listdir(path):\n",
    "        if not f.startswith('.'):\n",
    "            l.append(f)\n",
    "    \n",
    "    return(l)"
   ]
  },
  {
   "cell_type": "code",
   "execution_count": 20,
   "metadata": {},
   "outputs": [],
   "source": [
    "# The function reads all the images stores as a 3D array and also saves the corresponding encodings\n",
    "def read_organize_data(file_path):\n",
    "    l1 = listdir_nohidden(\"20_categories_training/20_categories_training/\")\n",
    "    l1.sort()\n",
    "    list2 = []\n",
    "    for i in range(len(l1)):\n",
    "        patha = \"20_categories_training/20_categories_training/\" + l1[i] + \"/\"\n",
    "        l = os.listdir(patha)\n",
    "        for file in l:\n",
    "            path = \"\"\n",
    "            filename = os.path.join(path, patha , file)\n",
    "            image= io.imread(filename)\n",
    "            if len(image.shape) == 2:\n",
    "                image = cv2.cvtColor(image, cv2.COLOR_GRAY2RGB)\n",
    "            list1 = []\n",
    "            list1.append(image)\n",
    "            list1.append(i)\n",
    "            list2.append(list1)\n",
    "    n = np.asarray(list2)\n",
    "    newdataset = pd.DataFrame()\n",
    "    newdataset['images']= n[:,0]\n",
    "    newdataset['encodings']= n[:,1]\n",
    "    return newdataset  "
   ]
  },
  {
   "cell_type": "markdown",
   "metadata": {},
   "source": [
    "## Training Data"
   ]
  },
  {
   "cell_type": "code",
   "execution_count": 21,
   "metadata": {},
   "outputs": [],
   "source": [
    "# the starting data with image and their encodings \n",
    "starting_data = read_organize_data(\"20_categories_training/20_categories_training/\")"
   ]
  },
  {
   "cell_type": "code",
   "execution_count": 22,
   "metadata": {},
   "outputs": [
    {
     "data": {
      "text/html": [
       "<div>\n",
       "<style scoped>\n",
       "    .dataframe tbody tr th:only-of-type {\n",
       "        vertical-align: middle;\n",
       "    }\n",
       "\n",
       "    .dataframe tbody tr th {\n",
       "        vertical-align: top;\n",
       "    }\n",
       "\n",
       "    .dataframe thead th {\n",
       "        text-align: right;\n",
       "    }\n",
       "</style>\n",
       "<table border=\"1\" class=\"dataframe\">\n",
       "  <thead>\n",
       "    <tr style=\"text-align: right;\">\n",
       "      <th></th>\n",
       "      <th>images</th>\n",
       "      <th>encodings</th>\n",
       "    </tr>\n",
       "  </thead>\n",
       "  <tbody>\n",
       "    <tr>\n",
       "      <td>0</td>\n",
       "      <td>[[[255, 255, 255], [255, 255, 255], [255, 255,...</td>\n",
       "      <td>0</td>\n",
       "    </tr>\n",
       "    <tr>\n",
       "      <td>1</td>\n",
       "      <td>[[[88, 56, 17], [95, 63, 24], [101, 69, 30], [...</td>\n",
       "      <td>0</td>\n",
       "    </tr>\n",
       "    <tr>\n",
       "      <td>2</td>\n",
       "      <td>[[[255, 255, 255], [255, 255, 255], [255, 255,...</td>\n",
       "      <td>0</td>\n",
       "    </tr>\n",
       "    <tr>\n",
       "      <td>3</td>\n",
       "      <td>[[[255, 255, 255], [255, 255, 255], [255, 255,...</td>\n",
       "      <td>0</td>\n",
       "    </tr>\n",
       "    <tr>\n",
       "      <td>4</td>\n",
       "      <td>[[[255, 255, 255], [255, 255, 255], [255, 255,...</td>\n",
       "      <td>0</td>\n",
       "    </tr>\n",
       "  </tbody>\n",
       "</table>\n",
       "</div>"
      ],
      "text/plain": [
       "                                              images encodings\n",
       "0  [[[255, 255, 255], [255, 255, 255], [255, 255,...         0\n",
       "1  [[[88, 56, 17], [95, 63, 24], [101, 69, 30], [...         0\n",
       "2  [[[255, 255, 255], [255, 255, 255], [255, 255,...         0\n",
       "3  [[[255, 255, 255], [255, 255, 255], [255, 255,...         0\n",
       "4  [[[255, 255, 255], [255, 255, 255], [255, 255,...         0"
      ]
     },
     "execution_count": 22,
     "metadata": {},
     "output_type": "execute_result"
    }
   ],
   "source": [
    "# Displaying starting_data dataframe\n",
    "starting_data.head()"
   ]
  },
  {
   "cell_type": "code",
   "execution_count": 23,
   "metadata": {},
   "outputs": [
    {
     "data": {
      "text/plain": [
       "(1501, 2)"
      ]
     },
     "execution_count": 23,
     "metadata": {},
     "output_type": "execute_result"
    }
   ],
   "source": [
    "# checking if the shape of the dataframe is (1501,2)\n",
    "starting_data.shape"
   ]
  },
  {
   "cell_type": "code",
   "execution_count": 24,
   "metadata": {},
   "outputs": [],
   "source": [
    "# converting the dataframe into pickle file to use it in the next function\n",
    "starting_data.to_pickle(\"./starting_data.pkl\")"
   ]
  },
  {
   "cell_type": "markdown",
   "metadata": {},
   "source": [
    "## Validation Data"
   ]
  },
  {
   "cell_type": "code",
   "execution_count": 25,
   "metadata": {},
   "outputs": [],
   "source": [
    "# Function to get validation dataset\n",
    "from tkinter import Tcl\n",
    "def get_validationset():\n",
    "    l1 = listdir_nohidden(\"20_Validation/\")\n",
    "    l1 = Tcl().call('lsort', '-dict', l1)\n",
    "    patha = \"20_Validation/\"\n",
    "    list1 = []\n",
    "    for file in l1:\n",
    "        path = \"\"\n",
    "        filename = os.path.join(path, patha , file)\n",
    "        image= io.imread(filename)\n",
    "        if len(image.shape) == 2:\n",
    "            image = cv2.cvtColor(image, cv2.COLOR_GRAY2RGB)\n",
    "        list1.append(image)\n",
    "    n = np.asarray(list1)\n",
    "    newdataset = pd.DataFrame()\n",
    "    newdataset['images']= n\n",
    "    return newdataset\n"
   ]
  },
  {
   "cell_type": "code",
   "execution_count": 26,
   "metadata": {},
   "outputs": [],
   "source": [
    "# Get Validation Image Data\n",
    "validation = get_validationset()"
   ]
  },
  {
   "cell_type": "code",
   "execution_count": 27,
   "metadata": {},
   "outputs": [
    {
     "data": {
      "text/html": [
       "<div>\n",
       "<style scoped>\n",
       "    .dataframe tbody tr th:only-of-type {\n",
       "        vertical-align: middle;\n",
       "    }\n",
       "\n",
       "    .dataframe tbody tr th {\n",
       "        vertical-align: top;\n",
       "    }\n",
       "\n",
       "    .dataframe thead th {\n",
       "        text-align: right;\n",
       "    }\n",
       "</style>\n",
       "<table border=\"1\" class=\"dataframe\">\n",
       "  <thead>\n",
       "    <tr style=\"text-align: right;\">\n",
       "      <th></th>\n",
       "      <th>images</th>\n",
       "    </tr>\n",
       "  </thead>\n",
       "  <tbody>\n",
       "    <tr>\n",
       "      <td>0</td>\n",
       "      <td>[[[80, 79, 74], [56, 55, 50], [54, 53, 48], [4...</td>\n",
       "    </tr>\n",
       "    <tr>\n",
       "      <td>1</td>\n",
       "      <td>[[[10, 15, 19], [10, 15, 19], [11, 16, 19], [1...</td>\n",
       "    </tr>\n",
       "    <tr>\n",
       "      <td>2</td>\n",
       "      <td>[[[232, 231, 247], [250, 249, 255], [235, 234,...</td>\n",
       "    </tr>\n",
       "    <tr>\n",
       "      <td>3</td>\n",
       "      <td>[[[97, 75, 77], [98, 76, 78], [99, 77, 79], [1...</td>\n",
       "    </tr>\n",
       "    <tr>\n",
       "      <td>4</td>\n",
       "      <td>[[[19, 46, 55], [19, 46, 53], [20, 47, 54], [2...</td>\n",
       "    </tr>\n",
       "  </tbody>\n",
       "</table>\n",
       "</div>"
      ],
      "text/plain": [
       "                                              images\n",
       "0  [[[80, 79, 74], [56, 55, 50], [54, 53, 48], [4...\n",
       "1  [[[10, 15, 19], [10, 15, 19], [11, 16, 19], [1...\n",
       "2  [[[232, 231, 247], [250, 249, 255], [235, 234,...\n",
       "3  [[[97, 75, 77], [98, 76, 78], [99, 77, 79], [1...\n",
       "4  [[[19, 46, 55], [19, 46, 53], [20, 47, 54], [2..."
      ]
     },
     "execution_count": 27,
     "metadata": {},
     "output_type": "execute_result"
    }
   ],
   "source": [
    "# Show Validation Images Dataframe\n",
    "validation.head()"
   ]
  },
  {
   "cell_type": "code",
   "execution_count": 28,
   "metadata": {},
   "outputs": [],
   "source": [
    "# Store Validation Dataset as a pickle file\n",
    "validation.to_pickle(\"./validation.pkl\")"
   ]
  }
 ],
 "metadata": {
  "kernelspec": {
   "display_name": "Python 3",
   "language": "python",
   "name": "python3"
  },
  "language_info": {
   "codemirror_mode": {
    "name": "ipython",
    "version": 3
   },
   "file_extension": ".py",
   "mimetype": "text/x-python",
   "name": "python",
   "nbconvert_exporter": "python",
   "pygments_lexer": "ipython3",
   "version": "3.7.4"
  }
 },
 "nbformat": 4,
 "nbformat_minor": 2
}
